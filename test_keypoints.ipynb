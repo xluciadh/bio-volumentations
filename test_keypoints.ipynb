{
 "cells": [
  {
   "cell_type": "code",
   "execution_count": 14,
   "metadata": {
    "tags": []
   },
   "outputs": [],
   "source": [
    "''' NOT USED\n",
    "import numpy as np\n",
    "from bio_volumentations import Compose,\\\n",
    "    RandomGamma,\\\n",
    "    RandomRotate90,\\\n",
    "    GaussianBlur,\\\n",
    "    RandomAffineTransform,\\\n",
    "    RandomScale\n",
    "\n",
    "# Create the transformation using Compose from a list of transformations\n",
    "aug = Compose([\n",
    "        RandomAffineTransform(p=1),\n",
    "        RandomScale(p=1),\n",
    "        RandomGamma(gamma_limit = (0.8, 1,2), p = 0.8),\n",
    "        #RandomRotate90(axes = [1, 2, 3], p = 1),\n",
    "        GaussianBlur(sigma = 1.2, p = 0.8),\n",
    "      ],  p=1)\n",
    "\n",
    "# Generate image and a corresponding labeled image\n",
    "img = np.random.rand(1, 128, 256, 256)\n",
    "lbl = np.random.randint(0, 1, size=(128, 256, 256), dtype=np.uint8)\n",
    "\n",
    "# Transform the images\n",
    "# Notice that the images must be passed as keyword arguments to the transformation pipeline\n",
    "# and extracted from the outputted dictionary.\n",
    "data = {'image': img, 'mask': lbl}\n",
    "aug_data = aug(**data)\n",
    "transformed_img, transformed_lbl = aug_data['image'], aug_data['mask']\n",
    "'''"
   ]
  },
  {
   "cell_type": "markdown",
   "metadata": {
    "pycharm": {
     "name": "#%% md\n"
    }
   },
   "source": [
    "1. Define Transform"
   ]
  },
  {
   "cell_type": "code",
   "execution_count": 15,
   "metadata": {
    "collapsed": false,
    "jupyter": {
     "outputs_hidden": false
    },
    "pycharm": {
     "name": "#%%\n"
    }
   },
   "outputs": [
    {
     "name": "stdout",
     "output_type": "stream",
     "text": [
      "The autoreload extension is already loaded. To reload it, use:\n",
      "  %reload_ext autoreload\n"
     ]
    }
   ],
   "source": [
    "%load_ext autoreload\n",
    "%autoreload 2"
   ]
  },
  {
   "cell_type": "markdown",
   "metadata": {
    "pycharm": {
     "name": "#%% md\n"
    }
   },
   "source": [
    "2. Define sample & show sample"
   ]
  },
  {
   "cell_type": "code",
   "execution_count": 16,
   "metadata": {
    "collapsed": false,
    "jupyter": {
     "outputs_hidden": false
    },
    "pycharm": {
     "name": "#%%\n"
    }
   },
   "outputs": [],
   "source": [
    "from bio_volumentations.napari_tools import show_sample\n",
    "import numpy as np\n",
    "\n",
    "def create_bbox(w, h, d, wd=5, hd=5, dd=5):\n",
    "    return [\n",
    "        [(w,      h, d), (w,      h, d + dd), (w,      h + hd, d + dd), (w,      h + hd, d)], # W\n",
    "        [(w + wd, h, d), (w + wd, h, d + dd), (w + wd, h + hd, d + dd), (w + wd, h + hd, d)], # W+WD\n",
    "        [(w, h     , d), (w, h     , d + dd), (w + wd, h     , d + dd), (w + wd, h     , d)], # H\n",
    "        [(w, h + hd, d), (w, h + hd, d + dd), (w + wd, h + hd, d + dd), (w + wd, h + hd, d)], # H+HD\n",
    "        [(w, h, d     ), (w, h + hd, d     ), (w + wd, h + hd, d     ), (w + wd, h, d     )], # D\n",
    "        [(w, h, d + dd), (w, h + hd, d + dd), (w + wd, h + hd, d + dd), (w + wd, h, d + dd)], # D+DD\n",
    "    ]\n",
    "\n",
    "w, h, d = 60, 60, 60\n",
    "\n",
    "img = np.random.rand(w, h, d)\n",
    "mask = np.zeros((w, h, d), np.int32)\n",
    "keypoints, bboxes = [], []\n",
    "\n",
    "for i in range(15):\n",
    "    w1, h1, d1 = np.random.randint(w-3), np.random.randint(h-3), np.random.randint(d-3)\n",
    "    #img[:, w1, h1, d1] = 0\n",
    "    mask[w1:w1+3, h1:h1+3, d1:d1+3] = i\n",
    "    keypoints.append((w1+1., h1+1., d1+1.))\n",
    "    bboxes += create_bbox(w1-1, h1-1, d1-1)\n",
    "\n",
    "sample = {'image': img,\n",
    "          'mask': mask,\n",
    "          'keypoints': keypoints,\n",
    "          #'bboxes': bboxes\n",
    "          }"
   ]
  },
  {
   "cell_type": "code",
   "execution_count": 17,
   "metadata": {
    "collapsed": false,
    "jupyter": {
     "outputs_hidden": false
    },
    "pycharm": {
     "name": "#%%\n"
    }
   },
   "outputs": [
    {
     "name": "stdout",
     "output_type": "stream",
     "text": [
      "(1, 60, 60, 60)\n"
     ]
    }
   ],
   "source": [
    "show_sample(sample)"
   ]
  },
  {
   "cell_type": "markdown",
   "metadata": {
    "pycharm": {
     "name": "#%% md\n"
    }
   },
   "source": [
    "3. create and apply transform"
   ]
  },
  {
   "cell_type": "code",
   "execution_count": 19,
   "metadata": {
    "collapsed": false,
    "jupyter": {
     "outputs_hidden": false
    },
    "pycharm": {
     "name": "#%%\n"
    }
   },
   "outputs": [],
   "source": [
    "from bio_volumentations import Scale, RandomScale, Compose, Resize, AffineTransform, RandomAffineTransform\n",
    "\n",
    "params = {'scaling_limit': (.5, 2.)}  # RandomScale\n",
    "params = {'shape': (60, 30, 120)}\n",
    "params = {'angles': (0, 30, 0),\n",
    "          'translation': (0, 0, 0),\n",
    "          'scale': (1., 1.2, 1.3)} # AffineTransform\n",
    "\n",
    "params = {'angle_limit': (45, 30, 30),\n",
    "          'translation_limit': (5, 5, 5),\n",
    "          'scaling_limit': (0.2, 0.1, 0.3)} # RandomAffineTransform\n",
    "\n",
    "transform = RandomAffineTransform\n",
    "tr = Compose([transform(**params, p=1)])\n",
    "transformed_sample = tr(**sample)"
   ]
  },
  {
   "cell_type": "markdown",
   "metadata": {
    "pycharm": {
     "name": "#%% md\n"
    }
   },
   "source": [
    "4. show result"
   ]
  },
  {
   "cell_type": "code",
   "execution_count": 20,
   "metadata": {
    "collapsed": false,
    "jupyter": {
     "outputs_hidden": false
    },
    "pycharm": {
     "name": "#%%\n"
    }
   },
   "outputs": [
    {
     "name": "stdout",
     "output_type": "stream",
     "text": [
      "(1, 60, 60, 60)\n"
     ]
    }
   ],
   "source": [
    "#transformed_sample['keypoints'] = transformed_sample['keypoints'] + sample['keypoints']\n",
    "show_sample(transformed_sample)"
   ]
  },
  {
   "cell_type": "code",
   "execution_count": 21,
   "metadata": {
    "collapsed": false,
    "jupyter": {
     "outputs_hidden": false
    },
    "pycharm": {
     "name": "#%%\n"
    }
   },
   "outputs": [
    {
     "data": {
      "text/plain": [
       "[(45.31621988461572, 18.317907240203006, 47.35854337636425),\n",
       " (14.397169966506032, 10.454536431727412, 23.006883455868987),\n",
       " (36.81085646165554, 34.817981310331604, 35.518247652933454),\n",
       " (4.671621357519772, 44.23183077702797, 51.5048292834707),\n",
       " (40.31839311921126, 25.082711236109446, 30.272013399520123),\n",
       " (15.267496510456871, 19.88351086387614, 22.555933748070707),\n",
       " (24.837839154860607, 50.605495406588034, 12.126165356469556),\n",
       " (54.14022971153564, 17.156881233967376, 42.3573522663649),\n",
       " (24.700193136424986, 36.056193768664116, 20.50412318689227),\n",
       " (13.377920639269867, 10.268477626511395, 12.001457604855162),\n",
       " (24.16044638734531, 0.8720164715200056, 53.46845573269649),\n",
       " (1.7916278016560163, 37.40161317381529, 37.984617141936496),\n",
       " (13.823818556565376, 36.27349815175894, 41.14025990234516)]"
      ]
     },
     "execution_count": 21,
     "metadata": {},
     "output_type": "execute_result"
    }
   ],
   "source": [
    "transformed_sample['keypoints']\n"
   ]
  },
  {
   "cell_type": "code",
   "execution_count": null,
   "metadata": {
    "collapsed": false,
    "jupyter": {
     "outputs_hidden": false
    },
    "pycharm": {
     "name": "#%%\n"
    }
   },
   "outputs": [],
   "source": []
  },
  {
   "cell_type": "code",
   "execution_count": null,
   "metadata": {},
   "outputs": [],
   "source": []
  }
 ],
 "metadata": {
  "kernelspec": {
   "display_name": "ipan-env",
   "language": "python",
   "name": "ipan-env"
  },
  "language_info": {
   "codemirror_mode": {
    "name": "ipython",
    "version": 3
   },
   "file_extension": ".py",
   "mimetype": "text/x-python",
   "name": "python",
   "nbconvert_exporter": "python",
   "pygments_lexer": "ipython3",
   "version": "3.10.14"
  }
 },
 "nbformat": 4,
 "nbformat_minor": 4
}
